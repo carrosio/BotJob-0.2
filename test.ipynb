{
 "cells": [
  {
   "cell_type": "code",
   "execution_count": 2,
   "metadata": {},
   "outputs": [],
   "source": [
    "import pandas as pd"
   ]
  },
  {
   "cell_type": "code",
   "execution_count": 11,
   "metadata": {},
   "outputs": [
    {
     "ename": "IndexError",
     "evalue": "list index out of range",
     "output_type": "error",
     "traceback": [
      "\u001b[0;31m---------------------------------------------------------------------------\u001b[0m",
      "\u001b[0;31mIndexError\u001b[0m                                Traceback (most recent call last)",
      "Cell \u001b[0;32mIn [11], line 17\u001b[0m\n\u001b[1;32m      3\u001b[0m questions \u001b[38;5;241m=\u001b[39m [\n\u001b[1;32m      4\u001b[0m     \u001b[38;5;124m'\u001b[39m\u001b[38;5;124m¿Contas con experiencia como Vendedor para agencia de turismo?\u001b[39m\u001b[38;5;124m'\u001b[39m,\n\u001b[1;32m      5\u001b[0m     \u001b[38;5;124m'\u001b[39m\u001b[38;5;124mCual fue tu último trabajo como encargado, y cuanto tiempo trabajaste?\u001b[39m\u001b[38;5;124m'\u001b[39m,\n\u001b[1;32m      6\u001b[0m     \u001b[38;5;124m'\u001b[39m\u001b[38;5;124m¿Contas con el certificado de AT?\u001b[39m\u001b[38;5;124m'\u001b[39m\n\u001b[1;32m      7\u001b[0m     ]\n\u001b[1;32m      9\u001b[0m id_val \u001b[38;5;241m=\u001b[39m \u001b[38;5;124m'\u001b[39m\u001b[38;5;124mF165FE65C3C9D9E061373E686DCF3405\u001b[39m\u001b[38;5;124m'\u001b[39m\n\u001b[1;32m     11\u001b[0m obj \u001b[38;5;241m=\u001b[39m {\n\u001b[1;32m     12\u001b[0m \n\u001b[1;32m     13\u001b[0m     \u001b[38;5;124m'\u001b[39m\u001b[38;5;124mid\u001b[39m\u001b[38;5;124m'\u001b[39m: id_val,\n\u001b[1;32m     14\u001b[0m     \u001b[38;5;124m'\u001b[39m\u001b[38;5;124mq0\u001b[39m\u001b[38;5;124m'\u001b[39m: questions[\u001b[38;5;241m0\u001b[39m],\n\u001b[1;32m     15\u001b[0m     \u001b[38;5;124m'\u001b[39m\u001b[38;5;124mq1\u001b[39m\u001b[38;5;124m'\u001b[39m: questions[\u001b[38;5;241m1\u001b[39m],\n\u001b[1;32m     16\u001b[0m     \u001b[38;5;124m'\u001b[39m\u001b[38;5;124mq2\u001b[39m\u001b[38;5;124m'\u001b[39m: questions[\u001b[38;5;241m2\u001b[39m],\n\u001b[0;32m---> 17\u001b[0m     \u001b[38;5;124m'\u001b[39m\u001b[38;5;124mq3\u001b[39m\u001b[38;5;124m'\u001b[39m: \u001b[43mquestions\u001b[49m\u001b[43m[\u001b[49m\u001b[38;5;241;43m3\u001b[39;49m\u001b[43m]\u001b[49m,\n\u001b[1;32m     18\u001b[0m     \u001b[38;5;124m'\u001b[39m\u001b[38;5;124mq4\u001b[39m\u001b[38;5;124m'\u001b[39m: questions[\u001b[38;5;241m4\u001b[39m],\n\u001b[1;32m     19\u001b[0m \n\u001b[1;32m     20\u001b[0m }\n\u001b[1;32m     22\u001b[0m df_questions \u001b[38;5;241m=\u001b[39m pd\u001b[38;5;241m.\u001b[39mDataFrame(obj, index\u001b[38;5;241m=\u001b[39m[\u001b[38;5;124m'\u001b[39m\u001b[38;5;124m0\u001b[39m\u001b[38;5;124m'\u001b[39m])\n\u001b[1;32m     24\u001b[0m df_questions\n",
      "\u001b[0;31mIndexError\u001b[0m: list index out of range"
     ]
    }
   ],
   "source": [
    "header = ['id', 'q1', 'q2', 'q3', 'q4', ]\n",
    "\n",
    "questions = [\n",
    "    '¿Contas con experiencia como Vendedor para agencia de turismo?',\n",
    "    'Cual fue tu último trabajo como encargado, y cuanto tiempo trabajaste?',\n",
    "    '¿Contas con el certificado de AT?'\n",
    "    ]\n",
    "\n",
    "id_val = 'F165FE65C3C9D9E061373E686DCF3405'\n",
    "\n",
    "obj = {\n",
    "\n",
    "    'id': id_val,\n",
    "    'q0': questions[0],\n",
    "    'q1': questions[1],\n",
    "    'q2': questions[2],\n",
    "    'q3': questions[3],\n",
    "    'q4': questions[4],\n",
    "\n",
    "}\n",
    "\n",
    "df_questions = pd.DataFrame(obj, index=['0'])\n",
    "\n",
    "df_questions\n",
    "\n"
   ]
  }
 ],
 "metadata": {
  "kernelspec": {
   "display_name": "Python 3.9.12 ('base')",
   "language": "python",
   "name": "python3"
  },
  "language_info": {
   "codemirror_mode": {
    "name": "ipython",
    "version": 3
   },
   "file_extension": ".py",
   "mimetype": "text/x-python",
   "name": "python",
   "nbconvert_exporter": "python",
   "pygments_lexer": "ipython3",
   "version": "3.9.12"
  },
  "orig_nbformat": 4,
  "vscode": {
   "interpreter": {
    "hash": "96171279139763479e351b5e68294b9defa2b92da4980b888b3a78496ed8bebf"
   }
  }
 },
 "nbformat": 4,
 "nbformat_minor": 2
}

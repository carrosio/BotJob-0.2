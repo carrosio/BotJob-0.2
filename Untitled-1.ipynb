{
 "cells": [
  {
   "cell_type": "code",
   "execution_count": 1,
   "metadata": {},
   "outputs": [
    {
     "data": {
      "text/plain": [
       "0      https://ar.computrabajo.com/ofertas-de-trabajo...\n",
       "1      https://ar.computrabajo.com/ofertas-de-trabajo...\n",
       "2      https://ar.computrabajo.com/ofertas-de-trabajo...\n",
       "3      https://ar.computrabajo.com/ofertas-de-trabajo...\n",
       "4      Por favor indicanos tu remuneración bruta pret...\n",
       "                             ...                        \n",
       "900                       Edita tu carta de presentación\n",
       "901                       Edita tu carta de presentación\n",
       "902                       Edita tu carta de presentación\n",
       "903                       Edita tu carta de presentación\n",
       "904                       Edita tu carta de presentación\n",
       "Name: 0, Length: 905, dtype: object"
      ]
     },
     "execution_count": 1,
     "metadata": {},
     "output_type": "execute_result"
    }
   ],
   "source": [
    "import pandas as pd\n",
    "\n",
    "pd.read_json('questions.json')[0]"
   ]
  },
  {
   "cell_type": "code",
   "execution_count": 3,
   "metadata": {},
   "outputs": [
    {
     "data": {
      "text/plain": [
       "'https://ar.computrabajo.com/empleos-en-cordoba?by=publicationtime&p='"
      ]
     },
     "execution_count": 3,
     "metadata": {},
     "output_type": "execute_result"
    }
   ],
   "source": [
    "link_base = pd.read_json('config.json').link[0]\n",
    "link_base"
   ]
  }
 ],
 "metadata": {
  "kernelspec": {
   "display_name": "Python 3.10.6 ('scraping')",
   "language": "python",
   "name": "python3"
  },
  "language_info": {
   "codemirror_mode": {
    "name": "ipython",
    "version": 3
   },
   "file_extension": ".py",
   "mimetype": "text/x-python",
   "name": "python",
   "nbconvert_exporter": "python",
   "pygments_lexer": "ipython3",
   "version": "3.10.6"
  },
  "orig_nbformat": 4,
  "vscode": {
   "interpreter": {
    "hash": "a49a2fa2ac5522a5e1391f75664b43e1a43339e568f275ab0a6e7a257da7323b"
   }
  }
 },
 "nbformat": 4,
 "nbformat_minor": 2
}
